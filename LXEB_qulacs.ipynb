{
 "cells": [
  {
   "cell_type": "markdown",
   "metadata": {},
   "source": [
    "# Googleによる量子超越実験の（小規模）シミュレーション\n",
    "\n",
    "日本物理学会誌○○月号、「最近のトピック」に掲載予定の付録として、Googleの論文で実行されたlinear cross entropy benchmark で行われているタスクを量子コンピュータのシミュレーターを用いて解説します。シミュレータとしては、qulacs を用いました。qulacsのインストールについては、[ここ](https://github.com/qulacs/qulacs/blob/master/doc/1_HowToInstall.md)を参考にしてください。 qulacsについては、 [github](http://qulacs.org)、もしくは[これ](/Qulacs_introduction.ipynb)を参考にしてください。量子計算の基礎や高度なqulacsの使い方については、[Quantum Native Dojo](https://dojo.qulacs.org)をご参照ください。"
   ]
  },
  {
   "cell_type": "markdown",
   "metadata": {},
   "source": [
    "まず、以下で必要なモジュールを読み込みます。"
   ]
  },
  {
   "cell_type": "code",
   "execution_count": 1,
   "metadata": {},
   "outputs": [],
   "source": [
    "import matplotlib.pyplot as plt\n",
    "import numpy as np\n",
    "import time \n",
    "import random\n",
    "from qulacs import QuantumState\n",
    "#GPU版をインストールしている場合のみ\n",
    "#from qulacs import QuantumStateGpu\n",
    "from qulacs import QuantumCircuit\n",
    "from qulacs.gate import DenseMatrix\n",
    "from qulacs.circuit import QuantumCircuitOptimizer\n",
    "from qulacs.state import inner_product\n",
    "from qulacs.gate import Identity, X,Y,Z #パウリ演算子\n",
    "from qulacs.gate import H,S,Sdag, sqrtX,sqrtXdag,sqrtY,sqrtYdag #1量子ビット Clifford演算\n",
    "from qulacs.gate import T,Tdag #1量子ビット 非Clifford演算\n",
    "from qulacs.gate import RX,RY,RZ #パウリ演算子についての回転演算\n",
    "from qulacs.gate import CNOT, CZ, SWAP #2量子ビット演算\n",
    "from qulacs.gate import DephasingNoise,DepolarizingNoise,TwoQubitDepolarizingNoise"
   ]
  },
  {
   "cell_type": "markdown",
   "metadata": {},
   "source": [
    "正方格子上に配置された量子ビットの番号を簡単に指定するための関数を用意しておく。"
   ]
  },
  {
   "cell_type": "code",
   "execution_count": 2,
   "metadata": {},
   "outputs": [],
   "source": [
    "#xy座標から通し番号を出力\n",
    "def GridtoId(x,y,length):\n",
    "    return x+length*y\n",
    "\n",
    "#通し番号からxy座標を出力\n",
    "def IdtoGrid(id,length):\n",
    "    return np.array([id%length,(id-id%length)/length],dtype = int)\n",
    "\n",
    "#グリッド内にいるかどうか判定\n",
    "def InGrid(x,y,length):\n",
    "    if x<length and y<length and x>=0 and y>=0:\n",
    "        return 0\n",
    "    else:\n",
    "        return 1"
   ]
  },
  {
   "cell_type": "markdown",
   "metadata": {},
   "source": [
    "グリッド上で作用する演算をいくつか定義しておく。"
   ]
  },
  {
   "cell_type": "code",
   "execution_count": 3,
   "metadata": {},
   "outputs": [],
   "source": [
    "#グリッド上でCZ gateを作用\n",
    "def grid_CZ_gate(qubit1,qubit2,length):\n",
    "    if InGrid(qubit1[0],qubit1[1],length)==0 and InGrid(qubit2[0],qubit2[1],length)==0:\n",
    "        circuit.add_gate(CZ(GridtoId(qubit1[0],qubit1[1],length),GridtoId(qubit2[0],qubit2[1],length)))\n",
    "\n",
    "#グリッド上で2qubit gateを作用\n",
    "def grid_2Q_gate(qubit1,qubit2,length,gate_array,circuit):\n",
    "    if InGrid(qubit1[0],qubit1[1],length)==0 and InGrid(qubit2[0],qubit2[1],length)==0:\n",
    "        circuit.add_gate(DenseMatrix([GridtoId(qubit1[0],qubit1[1],length),GridtoId(qubit2[0],qubit2[1],length)],gate_array))  \n",
    "\n",
    "#グリッド上で1qubit gateを作用\n",
    "def grid_1Q_gate(qubitId,circuit,gate_type):\n",
    "    if gate_type == 0:\n",
    "        circuit.add_gate(sqrtX(qubitId))\n",
    "    elif gate_type == 1:\n",
    "        circuit.add_gate(sqrtY(qubitId))\n",
    "    elif gate_type == 2:\n",
    "        circuit.add_gate(DenseMatrix(qubitId,[[1/np.sqrt(2.0),- np.sqrt(1.0j/2.0)],[np.sqrt(-1.0j/2.0),1/np.sqrt(2.0)]]))\n",
    "\n",
    "\n",
    "#グリッド上でrandom 1Q gateを作用        \n",
    "def random_1Q_gate(qubitId,circuit):\n",
    "    hoge =1\n",
    "    prob = random.random()\n",
    "    if prob < 1.0/3.0:\n",
    "        circuit.add_gate(sqrtX(qubitId))\n",
    "    elif prob < 2.0/3.0:\n",
    "        circuit.add_gate(sqrtY(qubitId))\n",
    "    else:\n",
    "        circuit.add_gate(DenseMatrix(qubitId,[[1/np.sqrt(2.0),- np.sqrt(1.0j/2.0)],[np.sqrt(-1.0j/2.0),1/np.sqrt(2.0)]]))\n",
    "        #circuit.add_gate(T(qubitId))"
   ]
  },
  {
   "cell_type": "markdown",
   "metadata": {},
   "source": [
    "Googleが使っている２量子ビット演算（iSwapLikeGate）を指定するための配列を定義しておきます。"
   ]
  },
  {
   "cell_type": "code",
   "execution_count": 21,
   "metadata": {},
   "outputs": [
    {
     "name": "stdout",
     "output_type": "stream",
     "text": [
      "[[1.000000e+00+0.j 0.000000e+00+0.j 0.000000e+00+0.j 0.000000e+00+0.j]\n",
      " [0.000000e+00+0.j 6.123234e-17+0.j 0.000000e+00-1.j 0.000000e+00+0.j]\n",
      " [0.000000e+00+0.j 0.000000e+00-1.j 6.123234e-17+0.j 0.000000e+00+0.j]\n",
      " [0.000000e+00+0.j 0.000000e+00+0.j 0.000000e+00+0.j 1.000000e+00+0.j]]\n"
     ]
    }
   ],
   "source": [
    "theta = np.pi/2.0\n",
    "iSwapLikeGate = [[1,0,0,0],\n",
    "                [0,np.cos(theta),-1.0j*np.sin(theta),0],\n",
    "                [0,-1.0j*np.sin(theta),np.cos(theta),0],\n",
    "                [0,0,0,1]]\n",
    "print(np.array(iSwapLikeGate))"
   ]
  },
  {
   "cell_type": "markdown",
   "metadata": {},
   "source": [
    "とりあえず、きちんと動くかテストしてみる。"
   ]
  },
  {
   "cell_type": "code",
   "execution_count": 5,
   "metadata": {},
   "outputs": [
    {
     "name": "stdout",
     "output_type": "stream",
     "text": [
      " *** Quantum State ***\n",
      " * Qubit Count : 4\n",
      " * Dimension   : 16\n",
      " * State vector : \n",
      "(0.25,0)\n",
      "(0.25,0)\n",
      "(0.25,0)\n",
      "(0.25,0)\n",
      "(0.25,0)\n",
      "(0.25,0)\n",
      "(0.25,0)\n",
      "(0.25,0)\n",
      "(0.25,0)\n",
      "(0.25,0)\n",
      "(0.25,0)\n",
      "(0.25,0)\n",
      "(0.25,0)\n",
      "(0.25,0)\n",
      "(0.25,0)\n",
      "(0.25,0)\n",
      "\n",
      " *** Quantum State ***\n",
      " * Qubit Count : 4\n",
      " * Dimension   : 16\n",
      " * State vector : \n",
      "           (0.25,0)\n",
      "(1.53081e-17,-0.25)\n",
      "(1.53081e-17,-0.25)\n",
      "           (0.25,0)\n",
      "           (0.25,0)\n",
      "(1.53081e-17,-0.25)\n",
      "(1.53081e-17,-0.25)\n",
      "           (0.25,0)\n",
      "           (0.25,0)\n",
      "(1.53081e-17,-0.25)\n",
      "(1.53081e-17,-0.25)\n",
      "           (0.25,0)\n",
      "           (0.25,0)\n",
      "(1.53081e-17,-0.25)\n",
      "(1.53081e-17,-0.25)\n",
      "           (0.25,0)\n",
      "\n"
     ]
    }
   ],
   "source": [
    "#正方格子のサイズ\n",
    "length = 2\n",
    "#量子ビットの数\n",
    "nqubits = length**2\n",
    "\n",
    "state = QuantumState(nqubits)\n",
    "state.set_zero_state()\n",
    "circuit = QuantumCircuit(nqubits)\n",
    "\n",
    "for i in range(nqubits):\n",
    "    H(i).update_quantum_state(state)\n",
    "print(state)\n",
    "\n",
    "grid_2Q_gate([0,0],[1,0],length,iSwapLikeGate,circuit)\n",
    "\n",
    "circuit.update_quantum_state(state)\n",
    "print(state)"
   ]
  },
  {
   "cell_type": "markdown",
   "metadata": {},
   "source": [
    "ランダム量子回路を生成する関数を作る。depthが論文でのcycleに対応します。論文では、A-type、B-type、C-type、D-typeの４通りの隣接する量子ビット間に作用する２量子ビット演算が定義されている。ここでは、簡単のため、A,B,C,Dの順に作用させて行くことにします。"
   ]
  },
  {
   "cell_type": "code",
   "execution_count": 6,
   "metadata": {},
   "outputs": [],
   "source": [
    "#テスト用回路：アダマール演算を用いて全てのビット列の重ね合わせ状態を生成\n",
    "def test_circuit(length,circuit):\n",
    "    num_qubits = length**2\n",
    "    for i in range(num_qubits):\n",
    "        circuit.add_gate(H(i))\n",
    "\n",
    "def Google_random_circuit(length,depth,circuit):\n",
    "    num_qubits = length**2\n",
    "\n",
    "    for k in range(depth):\n",
    "        if k%4 == 0:\n",
    "            #cycle A\n",
    "            #ランダムに1量子ビット演算を追加\n",
    "            for i in range(num_qubits):\n",
    "                random_1Q_gate(i,circuit)\n",
    "\n",
    "            #２量子ビットを追加\n",
    "            for i in range(length):\n",
    "                for j in range(length):\n",
    "                    if (i+j)%2 == 0:\n",
    "                        grid_2Q_gate([i,j],[i+1,j],length,iSwapLikeGate,circuit)\n",
    "                        \n",
    "\n",
    "        if k%4 == 1:\n",
    "            #cycle B\n",
    "            #ランダムに1量子ビット演算を追加\n",
    "            for i in range(num_qubits):\n",
    "                random_1Q_gate(i,circuit)\n",
    "\n",
    "            #２量子ビットを追加\n",
    "            for i in range(length):\n",
    "                for j in range(length):\n",
    "                    if (i+j)%2 == 0:\n",
    "                        grid_2Q_gate([i,j],[i-1,j],length,iSwapLikeGate,circuit)\n",
    "\n",
    "        if k%4 == 2:\n",
    "            #cycle C\n",
    "            #ランダムに1量子ビット演算を追加\n",
    "            for i in range(num_qubits):\n",
    "                random_1Q_gate(i,circuit)\n",
    "\n",
    "            #２量子ビットを追加\n",
    "            for i in range(length):\n",
    "                for j in range(length):\n",
    "                    if (i+j)%2 == 0:\n",
    "                        grid_2Q_gate([i,j],[i,j+1],length,iSwapLikeGate,circuit)\n",
    "\n",
    "        if k%4 == 3:\n",
    "            #cycle D\n",
    "            #ランダムに1量子ビット演算を追加\n",
    "            for i in range(num_qubits):\n",
    "                random_1Q_gate(i,circuit)\n",
    "\n",
    "            #２量子ビットを追加\n",
    "            for i in range(length):\n",
    "                for j in range(length):\n",
    "                    if (i+j)%2 == 0:\n",
    "                        grid_2Q_gate([i,j],[i,j-1],length,iSwapLikeGate,circuit)\n",
    "\n"
   ]
  },
  {
   "cell_type": "markdown",
   "metadata": {},
   "source": [
    "回路要素がきちんと構成されているか確認しておきます。"
   ]
  },
  {
   "cell_type": "code",
   "execution_count": 7,
   "metadata": {},
   "outputs": [
    {
     "name": "stdout",
     "output_type": "stream",
     "text": [
      "*** Quantum Circuit Info ***\n",
      "# of qubit: 16\n",
      "# of step : 2\n",
      "# of gate : 22\n",
      "# of 1 qubit gate: 16\n",
      "# of 2 qubit gate: 6\n",
      "Clifford  : no\n",
      "Gaussian  : no\n",
      "\n",
      "\n"
     ]
    }
   ],
   "source": [
    "#格子の横の長さ\n",
    "length = 4\n",
    "#量子ビット数\n",
    "nqubits = length**2\n",
    "#計算の深さ、cycleに相当\n",
    "depth = 1\n",
    "\n",
    "#量子回路を確保\n",
    "circuit =QuantumCircuit(nqubits)\n",
    "#googleのランダム量子回路を構成\n",
    "Google_random_circuit(length,depth,circuit)\n",
    "print(circuit)"
   ]
  },
  {
   "cell_type": "markdown",
   "metadata": {},
   "source": [
    "テスト回路でサンプリングを実行。"
   ]
  },
  {
   "cell_type": "code",
   "execution_count": 8,
   "metadata": {},
   "outputs": [
    {
     "name": "stdout",
     "output_type": "stream",
     "text": [
      "[15, 9, 1, 9, 10, 4, 11, 6, 2, 12, 14, 2, 0, 4, 8, 9, 2, 9, 14, 14, 5, 7, 0, 5, 10, 5, 12, 7, 3, 13, 13, 7, 3, 10, 0, 14, 9, 2, 6, 14, 1, 15, 4, 0, 6, 9, 5, 6, 13, 9, 3, 9, 8, 13, 6, 14, 12, 15, 5, 9, 14, 4, 11, 5, 5, 4, 10, 10, 6, 6, 1, 7, 6, 11, 1, 10, 0, 15, 0, 3, 12, 8, 11, 13, 15, 12, 4, 11, 5, 6, 0, 11, 7, 14, 14, 14, 6, 14, 8, 15]\n"
     ]
    }
   ],
   "source": [
    "num_samp = 100\n",
    "length = 2\n",
    "nqubits = length**2\n",
    "depth = 10\n",
    "\n",
    "state =QuantumState(nqubits)\n",
    "circuit =QuantumCircuit(nqubits)\n",
    "\n",
    "test_circuit(length,circuit)\n",
    "circuit.update_quantum_state(state)\n",
    "result = state.sampling(num_samp)\n",
    "print(result)"
   ]
  },
  {
   "cell_type": "markdown",
   "metadata": {},
   "source": [
    "ビット列の10進数表示が得られています。25量子ビットのランダム量子回路で10サンプリングするのにノートPC（MacBook Pro 3.5 GHz Intel Core i7）でどれくらいの時間がかかるか計測してみましょう。"
   ]
  },
  {
   "cell_type": "code",
   "execution_count": 40,
   "metadata": {},
   "outputs": [
    {
     "name": "stdout",
     "output_type": "stream",
     "text": [
      "26.96825075149536\n"
     ]
    }
   ],
   "source": [
    "num_samp = 10\n",
    "\n",
    "length = 5\n",
    "nqubits = length**2\n",
    "depth = 10\n",
    "\n",
    "\n",
    "st = time.time()\n",
    "state =QuantumState(nqubits)\n",
    "circuit =QuantumCircuit(nqubits)\n",
    "\n",
    "Google_random_circuit(length,depth,circuit)\n",
    "circuit.update_quantum_state(state)\n",
    "result = state.sampling(num_samp)\n",
    "els = time.time()-st\n",
    "print(els)"
   ]
  },
  {
   "cell_type": "markdown",
   "metadata": {},
   "source": [
    "約２５秒かかりました。少々横暴な見積もりですが、1つ量子ビットが増えるごとに複素数の次元は２倍になり、計算時間も２倍になるとして50量子ビットの場合は、\n",
    "$$\n",
    "27 \\times 2^{25} \n",
    "$$\n",
    "また、1000回サンプリング（忠実度0.001で$10^6$回サンプルするためにはこれくらい必要）するとし、さらに、$10^6$コアの並列計算機で並列化し、メモリアクセスのボトルネックやノード間並列に要するコストを完全に無視して$10^6$倍高速化できたとし、秒から日に換算すると、\n",
    "$$\n",
    "27 \\times 2^{25} \\times 10^3 / 10^6 / 86400 \\sim 10\n",
    "$$\n",
    "約10日かかることになります。GPUなど並列性の高いマシンを用いればさらに高速化されるでしょう（IBMの見積もりでは、スーパーコンピュータサミットを用いて、53量子ビット、20cycleのシミュレーションが2.5日ということでした）。50量子ビットで、倍精度では16Pbyteのデータを確保する必要があります。この見積もりは、波動関数の情報を全て確保した場合ですが、データを全て確保できない場合は、経路積分法のように量子計算を特定のパスに分割し足し合わせるという方法をとる必要があり、さらに計算時間がかかることになります。"
   ]
  },
  {
   "cell_type": "markdown",
   "metadata": {},
   "source": [
    "さて、サンプリングした結果の処理に入ります。整理してヒストグラムをプロットする関数を定義しておきます。"
   ]
  },
  {
   "cell_type": "code",
   "execution_count": 9,
   "metadata": {},
   "outputs": [],
   "source": [
    "def plot_histgram(nqubits,result,num_samp):\n",
    "    dim = 2**nqubits\n",
    "\n",
    "    counts = [0 for i in range(dim)]\n",
    "    for i in range(num_samp):\n",
    "        counts[result[i]] += 1\n",
    "    counts.sort()\n",
    "#    plt.yscale(\"log\")\n",
    "    plt.plot(counts)\n",
    "    \n",
    "def plot_histgram_multi(nqubits,depth_result,num_multi,num_samp):\n",
    "    dim = 2**nqubits\n",
    "    for k in range(num_multi):\n",
    "        counts = [0 for i in range(dim)]\n",
    "        for i in range(num_samp):\n",
    "            counts[depth_result[k][i]] += 1\n",
    "        counts.sort()\n",
    "\n",
    "        plt.plot(counts)\n",
    "    plt.show()"
   ]
  },
  {
   "cell_type": "markdown",
   "metadata": {},
   "source": [
    "さて、実際にランダム量子回路を実行しヒストグラムをプロットしてみましょう。"
   ]
  },
  {
   "cell_type": "code",
   "execution_count": 11,
   "metadata": {},
   "outputs": [
    {
     "name": "stdout",
     "output_type": "stream",
     "text": [
      "*** Quantum Circuit Info ***\n",
      "# of qubit: 16\n",
      "# of step : 40\n",
      "# of gate : 440\n",
      "# of 1 qubit gate: 320\n",
      "# of 2 qubit gate: 120\n",
      "Clifford  : no\n",
      "Gaussian  : no\n",
      "\n",
      "\n"
     ]
    },
    {
     "data": {
      "image/png": "[encoded data removed]",
      "text/plain": [
       "<Figure size 432x288 with 1 Axes>"
      ]
     },
     "metadata": {},
     "output_type": "display_data"
    }
   ],
   "source": [
    "num_samp = 100000\n",
    "length = 4\n",
    "nqubits = length**2\n",
    "depth = 20\n",
    "\n",
    "state =QuantumState(nqubits)\n",
    "circuit =QuantumCircuit(nqubits)\n",
    "#state.set_Haar_random_state()\n",
    "\n",
    "Google_random_circuit(length,depth,circuit)\n",
    "print(circuit)\n",
    "circuit.update_quantum_state(state)\n",
    "\n",
    "result = state.sampling(num_samp)\n",
    "plot_histgram(nqubits,result,num_samp)"
   ]
  },
  {
   "cell_type": "markdown",
   "metadata": {},
   "source": [
    "qulacsには完全にランダムな状態（Haar random状態）を生成する機能があるので、それに対してサンプリングした場合と比較してみましょう。"
   ]
  },
  {
   "cell_type": "code",
   "execution_count": 12,
   "metadata": {},
   "outputs": [
    {
     "name": "stdout",
     "output_type": "stream",
     "text": [
      "10.668841944186056 10.667354888959125\n"
     ]
    },
    {
     "data": {
      "image/png": "[encoded data removed]",
      "text/plain": [
       "<Figure size 432x288 with 1 Axes>"
      ]
     },
     "metadata": {},
     "output_type": "display_data"
    }
   ],
   "source": [
    "num_samp = 100000\n",
    "length = 4\n",
    "nqubits = length**2\n",
    "depth = 5\n",
    "\n",
    "state =QuantumState(nqubits)\n",
    "circuit =QuantumCircuit(nqubits)\n",
    "state.set_Haar_random_state()\n",
    "print(state.get_entropy(),np.log(2.0**nqubits)-1+0.577)\n",
    "\n",
    "Haar_result = state.sampling(num_samp)\n",
    "plot_histgram(nqubits,Haar_result,num_samp)"
   ]
  },
  {
   "cell_type": "markdown",
   "metadata": {},
   "source": [
    "同じようなヒストグラムが得られます。この分布は、Porter-Thomas分布とよばれています。次にエントロピーを計算してみましょう。"
   ]
  },
  {
   "cell_type": "code",
   "execution_count": 84,
   "metadata": {},
   "outputs": [
    {
     "name": "stdout",
     "output_type": "stream",
     "text": [
      "4.334930896759033\n"
     ]
    }
   ],
   "source": [
    "num_samp = 1000000\n",
    "length = 4\n",
    "nqubits = length**2\n",
    "max_depth = 20\n",
    "\n",
    "depth_result = []\n",
    "entropy_res = []\n",
    "st = time.time()\n",
    "state =QuantumState(nqubits)\n",
    "\n",
    "for k in range(max_depth):\n",
    "    depth=k\n",
    "    state.set_zero_state()\n",
    "    circuit =QuantumCircuit(nqubits)\n",
    "    #state.set_Haar_random_state()\n",
    "\n",
    "    Google_random_circuit(length,depth,circuit)\n",
    "#    print(circuit)\n",
    "    circuit.update_quantum_state(state)\n",
    "    entropy_res.append(state.get_entropy())\n",
    "    result = state.sampling(num_samp)\n",
    "    depth_result.append(result)\n",
    "#    plot_histgram(nqubits,result,num_samp)\n",
    "elp = time.time()-st\n",
    "print(elp)"
   ]
  },
  {
   "cell_type": "markdown",
   "metadata": {},
   "source": [
    "計算の深さに対して、エントロピーをプロットすると、PT分布のエントロピーにdepth=5くらいで到達することがわかります。"
   ]
  },
  {
   "cell_type": "code",
   "execution_count": 85,
   "metadata": {},
   "outputs": [
    {
     "data": {
      "image/png": "[encoded data removed]",
      "text/plain": [
       "<Figure size 432x288 with 1 Axes>"
      ]
     },
     "metadata": {
      "needs_background": "light"
     },
     "output_type": "display_data"
    }
   ],
   "source": [
    "plt.plot(entropy_res)\n",
    "plt.plot([np.log(2.0**nqubits)-1+0.577 for i in range(20)])\n",
    "plt.show()"
   ]
  },
  {
   "cell_type": "markdown",
   "metadata": {},
   "source": [
    "実際の実験ではノイズが入ります。qulacsにはノイズをシミュレーションする機能もあるので、ノイズが入ることによって、得られる分布がどのようになるのか確認してみましょう。まずはノイズのある演算およびノイズのあるランダム量子回路を定義します。ノイズとしては、簡単のために以下のような1量子ビットのdepolarizing noiseと2量子ビットのdepolarizing noiseを採用しました。"
   ]
  },
  {
   "cell_type": "markdown",
   "metadata": {},
   "source": [
    "$$\n",
    "\\mathcal{E}(\\rho) = (1-p)\\rho + \\frac{p}{3}\\sum _{A=X,Y,Z} A \\rho A\n",
    "$$\n",
    "$$\n",
    "\\mathcal{E}(\\rho) = (1-p)\\rho + \\frac{p}{15}\\sum _{A\\otimes B \\in \\{ I,X,Y,Z\\}^{\\otimes 2} \\backslash  I\\otimes I} A\\otimes B \\rho A \\otimes B\n",
    "$$"
   ]
  },
  {
   "cell_type": "code",
   "execution_count": 15,
   "metadata": {},
   "outputs": [],
   "source": [
    "def noisy_random_1Q_gate(noise_rate,qubitId,circuit):\n",
    "    prob = random.random()\n",
    "\n",
    "    if prob < 1.0/3.0:\n",
    "        circuit.add_gate(sqrtX(qubitId))\n",
    "    \n",
    "    elif prob < 2.0/3.0:\n",
    "        circuit.add_gate(sqrtY(qubitId))\n",
    "    \n",
    "    else:\n",
    "        circuit.add_gate(DenseMatrix(qubitId,[[1/np.sqrt(2.0),- np.sqrt(1.0j/2.0)],[np.sqrt(-1.0j/2.0),1/np.sqrt(2.0)]]))\n",
    "    \n",
    "    circuit.add_gate(DepolarizingNoise(qubitId,noise_rate))\n",
    "        \n",
    "def noisy_grid_2Q_gate(noise_rate,qubit1,qubit2,length,gate_array,circuit):\n",
    "    if InGrid(qubit1[0],qubit1[1],length)==0 and InGrid(qubit2[0],qubit2[1],length)==0:\n",
    "        circuit.add_gate(DenseMatrix([GridtoId(qubit1[0],qubit1[1],length),GridtoId(qubit2[0],qubit2[1],length)],gate_array))  \n",
    "        circuit.add_gate(TwoQubitDepolarizingNoise(GridtoId(qubit1[0],qubit1[1],length),GridtoId(qubit2[0],qubit2[1],length),noise_rate))\n",
    "\n",
    "def noisy_Google_random_circuit(noise_rate,length,depth,circuit):\n",
    "    num_qubits = length**2\n",
    "\n",
    "    for k in range(depth):\n",
    "        #cycle A\n",
    "        #ランダムに1量子ビット演算を追加\n",
    "        for i in range(num_qubits):\n",
    "            noisy_random_1Q_gate(noise_rate,i,circuit)\n",
    "\n",
    "        #２量子ビットを追加\n",
    "        for i in range(length):\n",
    "            for j in range(length):\n",
    "                if (i+j)%2 == 0:\n",
    "                    noisy_grid_2Q_gate(noise_rate,[i,j],[i+1,j],length,iSwapLikeGate,circuit)\n",
    "                  \n",
    "\n",
    "\n",
    "        #cycle B\n",
    "        #ランダムに1量子ビット演算を追加\n",
    "        for i in range(num_qubits):\n",
    "            noisy_random_1Q_gate(noise_rate,i,circuit)\n",
    "            \n",
    "\n",
    "        #２量子ビットを追加\n",
    "        for i in range(length):\n",
    "            for j in range(length):\n",
    "                if (i+j)%2 == 0:\n",
    "                    noisy_grid_2Q_gate(noise_rate,[i,j],[i-1,j],length,iSwapLikeGate,circuit)\n",
    "\n",
    "\n",
    "\n",
    "        #cycle C\n",
    "        #ランダムに1量子ビット演算を追加\n",
    "        for i in range(num_qubits):\n",
    "            noisy_random_1Q_gate(noise_rate,i,circuit)\n",
    "            \n",
    "\n",
    "            \n",
    "        #２量子ビットを追加\n",
    "        for i in range(length):\n",
    "            for j in range(length):\n",
    "                if (i+j)%2 == 0:\n",
    "                    noisy_grid_2Q_gate(noise_rate,[i,j],[i,j+1],length,iSwapLikeGate,circuit)\n",
    "\n",
    "\n",
    "        #cycle D\n",
    "        #ランダムに1量子ビット演算を追加\n",
    "        for i in range(num_qubits):\n",
    "            noisy_random_1Q_gate(noise_rate,i,circuit)\n",
    "           \n",
    "\n",
    "        #２量子ビットを追加\n",
    "        for i in range(length):\n",
    "            for j in range(length):\n",
    "                if (i+j)%2 == 0:\n",
    "                    noisy_grid_2Q_gate(noise_rate,[i,j],[i,j-1],length,iSwapLikeGate,circuit)\n",
    "                    \n",
    "    #測定ノイズ            \n",
    "    for i in range(num_qubits):\n",
    "        circuit.add_gate(DepolarizingNoise(i,noise_rate))"
   ]
  },
  {
   "cell_type": "markdown",
   "metadata": {},
   "source": [
    "ノイズ（depolarizing noise）のシミュレーションでは、updateごとにノイズの入る場所が変わる（でなければノイズではない）のでサンプリングごとに状態をupdateする必要があるので、シミュレーションにかなり時間がかかります。"
   ]
  },
  {
   "cell_type": "code",
   "execution_count": 18,
   "metadata": {},
   "outputs": [
    {
     "data": {
      "image/png": "[encoded data removed]",
      "text/plain": [
       "<Figure size 432x288 with 1 Axes>"
      ]
     },
     "metadata": {},
     "output_type": "display_data"
    }
   ],
   "source": [
    "num_samp = 100000\n",
    "length = 4\n",
    "nqubits = length**2\n",
    "depth = 10\n",
    "noise_rate=0.01\n",
    "\n",
    "state =QuantumState(nqubits)\n",
    "circuit =QuantumCircuit(nqubits)\n",
    "noisy_Google_random_circuit(noise_rate,length,depth,circuit)\n",
    "\n",
    "result = []\n",
    "for i in range(num_samp):\n",
    "    state.set_zero_state()\n",
    "    circuit.update_quantum_state(state)\n",
    "    result.append(state.sampling(1)[0])\n",
    "    \n",
    "plot_histgram(nqubits,result,num_samp)\n",
    "#plot_histgram(nqubits,Haar_random,num_samp)\n",
    "plt.show()"
   ]
  },
  {
   "cell_type": "markdown",
   "metadata": {},
   "source": [
    "先ほどの分布に比べて、ヒストグラムの裾野が広がっていることがわかります。ノイズによって本来出るはずのないビット列がサンプリングされていることがわかります。実際にはどれくらいの忠実度がでているでしょうか？量子状態を測定によって完全に特定し、式として記述できれば理想的な状態とのオーバーラップを計算すれば忠実度\n",
    "$$\n",
    "F = \\langle \\psi _{\\rm ideal} | \\rho _{\\rm noisy} | \\psi _{\\rm ideal} \\rangle\n",
    "$$\n",
    "を計算することもできますが、量子ビット数が増えるとこのようなことは到底できません。"
   ]
  },
  {
   "cell_type": "markdown",
   "metadata": {},
   "source": [
    "以下では、linear cross-entropy benchamrkを用いて実際の量子回路の全体のフィデリティがどれくらいあるかを、サンプリングしたビット列から計算する方法を説明します。"
   ]
  },
  {
   "cell_type": "markdown",
   "metadata": {},
   "source": [
    "このときサンリングによって得られた$M$個のビット列$x_i$に対して、\n",
    "$$\n",
    "F_{\\rm XEB} = 2^n \\frac{1}{M} \\sum_i P(x_i) \n",
    "$$\n",
    "を計算してみましょう。（実際にはランダムな量子回路のインスタンスに対しても平均を取る必要があります）"
   ]
  },
  {
   "cell_type": "markdown",
   "metadata": {},
   "source": [
    "1量子ビット演算はランダムに選ばれるのでインスタンスごとに違うものになってしまう仕様でした。理想的な回路とノイズの入った回路において比較するために、１量子ビット演算のインスタンスを指定できるように演算、回路を改造します（以下では1depth毎に4つの1量子ビット演算と A,B,C,D それぞれのタイプの2量子ビット演算を作用させます。depth×8の計算スッテプが含まれます）。"
   ]
  },
  {
   "cell_type": "code",
   "execution_count": 8,
   "metadata": {},
   "outputs": [],
   "source": [
    "def noisy_grid_1Q_gate(noise_rate,qubitId,circuit,gate_type):\n",
    "\n",
    "    if gate_type == 0:\n",
    "        circuit.add_gate(sqrtX(qubitId))\n",
    "    elif gate_type == 1:\n",
    "        circuit.add_gate(sqrtY(qubitId))\n",
    "    elif gate_type == 2:\n",
    "        circuit.add_gate(DenseMatrix(qubitId,[[1/np.sqrt(2.0),- np.sqrt(1.0j/2.0)],[np.sqrt(-1.0j/2.0),1/np.sqrt(2.0)]]))\n",
    "\n",
    "    circuit.add_gate(DepolarizingNoise(qubitId,noise_rate))\n",
    "\n",
    "def fixed_Google_random_circuit(length,depth,circuit,gate_set):\n",
    "    num_qubits = length**2\n",
    "    step = 0\n",
    "\n",
    "    for k in range(depth):\n",
    "        #cycle A\n",
    "        #ランダムに1量子ビット演算を追加\n",
    "        for i in range(num_qubits):\n",
    "            grid_1Q_gate(i,circuit,gate_set[step])\n",
    "            step += 1\n",
    "\n",
    "        #２量子ビットを追加\n",
    "        for i in range(length):\n",
    "            for j in range(length):\n",
    "                if (i+j)%2 == 0:\n",
    "                    grid_2Q_gate([i,j],[i+1,j],length,iSwapLikeGate,circuit)\n",
    "\n",
    "\n",
    "        #cycle B\n",
    "        #ランダムに1量子ビット演算を追加\n",
    "        for i in range(num_qubits):\n",
    "            grid_1Q_gate(i,circuit,gate_set[step])\n",
    "            step += 1\n",
    "\n",
    "        #２量子ビットを追加\n",
    "        for i in range(length):\n",
    "            for j in range(length):\n",
    "                if (i+j)%2 == 0:\n",
    "                    grid_2Q_gate([i,j],[i-1,j],length,iSwapLikeGate,circuit)\n",
    "\n",
    "\n",
    "        #cycle C\n",
    "        #ランダムに1量子ビット演算を追加\n",
    "        for i in range(num_qubits):\n",
    "            grid_1Q_gate(i,circuit,gate_set[step])\n",
    "            step += 1\n",
    "\n",
    "\n",
    "\n",
    "        #２量子ビットを追加\n",
    "        for i in range(length):\n",
    "            for j in range(length):\n",
    "                if (i+j)%2 == 0:\n",
    "                    grid_2Q_gate([i,j],[i,j+1],length,iSwapLikeGate,circuit)\n",
    "\n",
    "\n",
    "        #cycle D\n",
    "        #ランダムに1量子ビット演算を追加\n",
    "        for i in range(num_qubits):\n",
    "            grid_1Q_gate(i,circuit,gate_set[step])\n",
    "            step += 1\n",
    "\n",
    "\n",
    "        #２量子ビットを追加\n",
    "        for i in range(length):\n",
    "            for j in range(length):\n",
    "                if (i+j)%2 == 0:\n",
    "                    grid_2Q_gate([i,j],[i,j-1],length,iSwapLikeGate,circuit)\n",
    "\n",
    "\n",
    "\n",
    "\n",
    "def fixed_noisy_Google_random_circuit(noise_rate,length,depth,circuit,gate_set):\n",
    "    num_qubits = length**2\n",
    "    step =0 \n",
    "    for k in range(depth):\n",
    "        #cycle A\n",
    "        #ランダムに1量子ビット演算を追加\n",
    "        for i in range(num_qubits):\n",
    "            noisy_grid_1Q_gate(noise_rate,i,circuit,gate_set[step])\n",
    "            step += 1\n",
    "\n",
    "\n",
    "\n",
    "        #２量子ビットを追加\n",
    "        for i in range(length):\n",
    "            for j in range(length):\n",
    "                if (i+j)%2 == 0:\n",
    "                    noisy_grid_2Q_gate(noise_rate,[i,j],[i+1,j],length,iSwapLikeGate,circuit)\n",
    "                  \n",
    "\n",
    "\n",
    "        #cycle B\n",
    "        #ランダムに1量子ビット演算を追加\n",
    "        for i in range(num_qubits):\n",
    "            noisy_grid_1Q_gate(noise_rate,i,circuit,gate_set[step])\n",
    "            step += 1\n",
    "\n",
    "\n",
    "            \n",
    "\n",
    "        #２量子ビットを追加\n",
    "        for i in range(length):\n",
    "            for j in range(length):\n",
    "                if (i+j)%2 == 0:\n",
    "                    noisy_grid_2Q_gate(noise_rate,[i,j],[i-1,j],length,iSwapLikeGate,circuit)\n",
    "\n",
    "\n",
    "\n",
    "        #cycle C\n",
    "        #ランダムに1量子ビット演算を追加\n",
    "        for i in range(num_qubits):\n",
    "            noisy_grid_1Q_gate(noise_rate,i,circuit,gate_set[step])\n",
    "            step += 1\n",
    "\n",
    "\n",
    "            \n",
    "\n",
    "            \n",
    "        #２量子ビットを追加\n",
    "        for i in range(length):\n",
    "            for j in range(length):\n",
    "                if (i+j)%2 == 0:\n",
    "                    noisy_grid_2Q_gate(noise_rate,[i,j],[i,j+1],length,iSwapLikeGate,circuit)\n",
    "\n",
    "\n",
    "        #cycle D\n",
    "        #ランダムに1量子ビット演算を追加\n",
    "        for i in range(num_qubits):\n",
    "            noisy_grid_1Q_gate(noise_rate,i,circuit,gate_set[step])\n",
    "            step += 1\n",
    "\n",
    "\n",
    "           \n",
    "\n",
    "        #２量子ビットを追加\n",
    "        for i in range(length):\n",
    "            for j in range(length):\n",
    "                if (i+j)%2 == 0:\n",
    "                    noisy_grid_2Q_gate(noise_rate,[i,j],[i,j-1],length,iSwapLikeGate,circuit)\n",
    "                    \n",
    "    #測定ノイズ            \n",
    "    for i in range(num_qubits):\n",
    "        circuit.add_gate(DepolarizingNoise(i,noise_rate))"
   ]
  },
  {
   "cell_type": "markdown",
   "metadata": {},
   "source": [
    "新しく定義した２つの関数がノイズがない場合に同じ状態が得られているか確認しておきます。"
   ]
  },
  {
   "cell_type": "code",
   "execution_count": 9,
   "metadata": {},
   "outputs": [
    {
     "name": "stdout",
     "output_type": "stream",
     "text": [
      "[ 0.22713002-0.02693937j -0.07795013+0.20705047j -0.02123199-0.22085781j\n",
      "  0.20723505-0.05660501j -0.01117114+0.27840358j  0.06132118-0.09525362j\n",
      "  0.17664439-0.04140601j -0.28148486-0.12869451j -0.0286774 -0.1681319j\n",
      " -0.27164353+0.06689938j -0.20534364-0.13691235j  0.00324062-0.02615591j\n",
      "  0.12620626+0.20355287j  0.14453118-0.02095842j -0.23899077-0.35642751j\n",
      "  0.38075813-0.08598684j]\n",
      "[ 0.22713002-0.02693937j -0.07795013+0.20705047j -0.02123199-0.22085781j\n",
      "  0.20723505-0.05660501j -0.01117114+0.27840358j  0.06132118-0.09525362j\n",
      "  0.17664439-0.04140601j -0.28148486-0.12869451j -0.0286774 -0.1681319j\n",
      " -0.27164353+0.06689938j -0.20534364-0.13691235j  0.00324062-0.02615591j\n",
      "  0.12620626+0.20355287j  0.14453118-0.02095842j -0.23899077-0.35642751j\n",
      "  0.38075813-0.08598684j]\n"
     ]
    }
   ],
   "source": [
    "num_samp = 10000\n",
    "length = 2\n",
    "nqubits = length**2\n",
    "depth = 10\n",
    "noise_rate=0\n",
    "\n",
    "gate_set = []\n",
    "for i in range(depth*nqubits*100):\n",
    "    prob = random.random()\n",
    "    if prob < 1.0/3.0:\n",
    "        gate_set.append(0)\n",
    "    elif prob < 2.0/3.0:\n",
    "        gate_set.append(1)\n",
    "    else:\n",
    "        gate_set.append(2)\n",
    "\n",
    "\n",
    "state =QuantumState(nqubits)\n",
    "circuit =QuantumCircuit(nqubits)\n",
    "ideal_circuit =QuantumCircuit(nqubits)\n",
    "\n",
    "fixed_Google_random_circuit(length,depth,ideal_circuit,gate_set)\n",
    "fixed_noisy_Google_random_circuit(noise_rate,length,depth,circuit,gate_set)\n",
    "\n",
    "state.set_zero_state()\n",
    "ideal_circuit.update_quantum_state(state)\n",
    "print(state.get_vector())\n",
    "\n",
    "state.set_zero_state()\n",
    "circuit.update_quantum_state(state)\n",
    "print(state.get_vector())"
   ]
  },
  {
   "cell_type": "markdown",
   "metadata": {},
   "source": [
    "まずはノイズがない状況で$F_{\\rm XEB}$を計算してみよう。"
   ]
  },
  {
   "cell_type": "code",
   "execution_count": 398,
   "metadata": {},
   "outputs": [
    {
     "name": "stdout",
     "output_type": "stream",
     "text": [
      "0.9989071317591494\n"
     ]
    }
   ],
   "source": [
    "num_samp = 1000\n",
    "length = 4\n",
    "nqubits = length**2\n",
    "depth = 10\n",
    "noise_rate=0\n",
    "\n",
    "gate_set = []\n",
    "for i in range(depth*nqubits*100):\n",
    "    prob = random.random()\n",
    "    if prob < 1.0/3.0:\n",
    "        gate_set.append(0)\n",
    "    elif prob < 2.0/3.0:\n",
    "        gate_set.append(1)\n",
    "    else:\n",
    "        gate_set.append(2)\n",
    "\n",
    "\n",
    "state =QuantumState(nqubits)\n",
    "circuit =QuantumCircuit(nqubits)\n",
    "ideal_circuit =QuantumCircuit(nqubits)\n",
    "\n",
    "fixed_Google_random_circuit(length,depth,ideal_circuit,gate_set)\n",
    "fixed_noisy_Google_random_circuit(noise_rate,length,depth,circuit,gate_set)\n",
    "\n",
    "state.set_zero_state()\n",
    "ideal_circuit.update_quantum_state(state)\n",
    "ideal_prob = abs(state.get_vector())**2\n",
    "\n",
    "F_XEB = 0\n",
    "for i in range(num_samp):\n",
    "    state.set_zero_state()\n",
    "    circuit.update_quantum_state(state)\n",
    "    state.sampling(1)[0]\n",
    "    F_XEB += ideal_prob[state.sampling(1)[0]]\n",
    "\n",
    "F_XEB = F_XEB*2**nqubits/num_samp-1\n",
    "print(F_XEB)"
   ]
  },
  {
   "cell_type": "markdown",
   "metadata": {},
   "source": [
    "だいたい1に近い値が得られています。ノイズをいれた回路で測ってみます。また、どれくらい真の忠実度と一致しているか比較するために、数値シミュレーションであることを利用して直接計算した忠実度とともに出力します。"
   ]
  },
  {
   "cell_type": "code",
   "execution_count": 108,
   "metadata": {},
   "outputs": [
    {
     "name": "stdout",
     "output_type": "stream",
     "text": [
      "0.9999999999999999 0.9939507766435374\n",
      "0.6388545407211692 0.6530743133275081\n",
      "0.41236721752088495 0.4215930039748019\n",
      "0.26176091950035474 0.27180793436479744\n",
      "0.16633423776320266 0.17338997992764527\n",
      "0.10803397212771712 0.1131657615228161\n",
      "0.06802299527868738 0.07099477399558651\n",
      "0.04396903778113734 0.050221685240760205\n",
      "0.028040696296429246 0.03134043903848527\n",
      "0.01829810841579147 0.024545647741535337\n",
      "time:25867.944477319717\n"
     ]
    }
   ],
   "source": [
    "num_samp = 100000\n",
    "length = 4\n",
    "nqubits = length**2\n",
    "depth = 5\n",
    "noise_rate=0\n",
    "st = time.time()\n",
    "for k in range(10):\n",
    "    noise_rate = 0.001*k\n",
    "    gate_set = []\n",
    "    for i in range(depth*nqubits*10):\n",
    "        prob = random.random()\n",
    "        if prob < 1.0/3.0:\n",
    "            gate_set.append(0)\n",
    "        elif prob < 2.0/3.0:\n",
    "            gate_set.append(1)\n",
    "        else:\n",
    "            gate_set.append(2)\n",
    "\n",
    "\n",
    "    state =QuantumState(nqubits)\n",
    "    circuit =QuantumCircuit(nqubits)\n",
    "    ideal_circuit =QuantumCircuit(nqubits)\n",
    "    ideal_state =QuantumState(nqubits)\n",
    "\n",
    "    fixed_Google_random_circuit(length,depth,ideal_circuit,gate_set)\n",
    "    fixed_noisy_Google_random_circuit(noise_rate,length,depth,circuit,gate_set)\n",
    "\n",
    "    ideal_state.set_zero_state()\n",
    "\n",
    "    ideal_circuit.update_quantum_state(ideal_state)\n",
    "\n",
    "    ideal_prob = abs(ideal_state.get_vector())**2\n",
    "\n",
    "    F_XEB = 0\n",
    "    Fidelity = 0\n",
    "\n",
    "    for i in range(num_samp):\n",
    "    #    if i%1000==0:\n",
    "    #        print(\"*\")\n",
    "        state.set_zero_state()\n",
    "        circuit.update_quantum_state(state)\n",
    "        Fidelity += abs(inner_product(ideal_state,state))**2\n",
    "        prob = ideal_prob[state.sampling(1)[0]]\n",
    "        F_XEB += prob\n",
    "    #    print(prob)\n",
    "\n",
    "\n",
    "\n",
    "    \n",
    "    Fidelity = Fidelity/num_samp\n",
    "    F_XEB = F_XEB*(2**nqubits)/num_samp - 1.0\n",
    "    print(Fidelity,F_XEB)\n",
    "elp = time.time()-st\n",
    "print(\"time:\"+\"{0}\".format(elp))"
   ]
  },
  {
   "cell_type": "markdown",
   "metadata": {},
   "source": [
    "だいたい、真の忠実度とlinear cross entropyから計算された忠実度が一致していることがわかります（linear cross entropyの方がやや大きめに出ていますが、サンプル数が少ないこと、量子ビット数が少ないこと、ランダム量子回路のインスタンスに対する平均化を行なっていない、ことによる影響かもしれません。実際の実験では10^6回、10個のランダム量子回路のインスタンスを用いて計算を行っています）。16量子ビットの計算ですが、ノイズのシミュレーションも含めると、この計算にノートPCで7時間ほどかかりました。"
   ]
  },
  {
   "cell_type": "code",
   "execution_count": 99,
   "metadata": {},
   "outputs": [
    {
     "name": "stdout",
     "output_type": "stream",
     "text": [
      "*** Quantum Circuit Info ***\n",
      "# of qubit: 16\n",
      "# of step : 40\n",
      "# of gate : 440\n",
      "# of 1 qubit gate: 320\n",
      "# of 2 qubit gate: 120\n",
      "Clifford  : no\n",
      "Gaussian  : no\n",
      "\n",
      "\n"
     ]
    }
   ],
   "source": [
    "print(ideal_circuit)"
   ]
  },
  {
   "cell_type": "markdown",
   "metadata": {},
   "source": [
    "さて、個々の演算の精度から全体の忠実度を計算（予測）しておきましょう。1量子ビット演算が320個、2量子ビット演算が120個あるので、忠実度は、\n",
    "$$\n",
    "(1-p)^{320}*(1-p)^{120}*(1-2p/3)^{16}\n",
    "$$"
   ]
  },
  {
   "cell_type": "code",
   "execution_count": 100,
   "metadata": {},
   "outputs": [
    {
     "name": "stdout",
     "output_type": "stream",
     "text": [
      "1.0\n",
      "0.6370606789425581\n",
      "0.40566452935920144\n",
      "0.258201236498848\n",
      "0.16426848734603441\n",
      "0.10446106898290965\n",
      "0.06639854299357453\n",
      "0.04218578322589401\n",
      "0.026790250418118677\n",
      "0.017005528121745012\n"
     ]
    }
   ],
   "source": [
    "for i in range(10):\n",
    "    noise_rate = 0.001*i\n",
    "    print((1 - noise_rate)**(320+120)*(1 - 2*noise_rate/3)**16)\n"
   ]
  },
  {
   "cell_type": "markdown",
   "metadata": {},
   "source": [
    "となりだいたい一致していることがわかります。"
   ]
  },
  {
   "cell_type": "markdown",
   "metadata": {},
   "source": [
    "GPUを用いると、25量子ビット、$10^5$サンプリングでも計算が実行できるので結果を貼っておきます（表示されない場合は[ここ](/fig.pdf)）：\n",
    "<img width=\"500\" src=\"fig.pdf\">"
   ]
  },
  {
   "cell_type": "code",
   "execution_count": null,
   "metadata": {},
   "outputs": [],
   "source": []
  }
 ],
 "metadata": {
  "kernelspec": {
   "display_name": "Python 3",
   "language": "python",
   "name": "python3"
  },
  "language_info": {
   "codemirror_mode": {
    "name": "ipython",
    "version": 3
   },
   "file_extension": ".py",
   "mimetype": "text/x-python",
   "name": "python",
   "nbconvert_exporter": "python",
   "pygments_lexer": "ipython3",
   "version": "3.6.4"
  }
 },
 "nbformat": 4,
 "nbformat_minor": 2
}
